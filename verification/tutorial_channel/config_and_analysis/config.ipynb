{
 "cells": [
  {
   "cell_type": "code",
   "execution_count": 1,
   "metadata": {},
   "outputs": [],
   "source": [
    "import numpy as np\n",
    "import matplotlib.pyplot as plt\n",
    "%matplotlib inline"
   ]
  },
  {
   "cell_type": "markdown",
   "metadata": {},
   "source": [
    "# Channel model tutorial\n",
    "\n",
    "This tutorial simulates a re-entrant channel. Channel models provide an ideal opportunity to explore baroclinic instability and show the impact of mesoscale eddies on the large-scale flow. They also provide an excellent opportunity to introduce the Gent-McWilliams eddy parameterisation (pkg/gmredi) and relaxation boundary conditions (pkg/rbcs)."
   ]
  },
  {
   "cell_type": "markdown",
   "metadata": {},
   "source": [
    "## A function for saving the fields in to MITgcm compatible binary files"
   ]
  },
  {
   "cell_type": "code",
   "execution_count": 2,
   "metadata": {},
   "outputs": [],
   "source": [
    "def writefield(fname,data):\n",
    "    import sys\n",
    "    print ('write to file: '+fname)\n",
    "    if sys.byteorder == 'little': data.byteswap(True)\n",
    "    fid = open(fname,\"wb\")\n",
    "    data.tofile(fid)\n",
    "    fid.close()"
   ]
  },
  {
   "cell_type": "markdown",
   "metadata": {},
   "source": [
    "# Horizontal resolution\n",
    "The functions are written in terms of real coordinates in km. This logical variable controls the number of grid points to use.\n",
    "- `False` $\\rightarrow$ coarse resolution (50 km)\n",
    "- `True` $\\rightarrow$ eddy resolving (5 km)"
   ]
  },
  {
   "cell_type": "code",
   "execution_count": 3,
   "metadata": {},
   "outputs": [],
   "source": [
    "eddy_resolving = False"
   ]
  },
  {
   "cell_type": "markdown",
   "metadata": {},
   "source": [
    "## Generate the vertical grid\n",
    "Use the hyperbolic tangent method of Stewart et al. (2017) to design an optimal grid. The code below is a lightly modified version of https://github.com/kialstewart/vertical_grid_for_ocean_models"
   ]
  },
  {
   "cell_type": "code",
   "execution_count": 4,
   "metadata": {},
   "outputs": [],
   "source": [
    "# what is the maximum depth of your ocean (approximately)? in metres?\n",
    "H = 4e3\n",
    "\n",
    "# what is the maximum grid spacing (the grid spacing at the deepest point in the ocean)? in meters\n",
    "dzd = 150.0\n",
    "\n",
    "# what is the minimum grid spacing (the grid spacing at the ocean surface)? in meters\n",
    "min_dz = 5.0\n",
    "\n",
    "def generate_vertical_grid(H, dzd, min_dz, depfac=1.03,\n",
    "                            save_files=False,\n",
    "                            super_grid_filename=\"ocean_vertical_grid_for_MOM5.nc\",\n",
    "                            regular_grid_filename=\"ocean_vertical_grid.nc\"):\n",
    "    \"\"\"\n",
    "    Generate a vertical grid.\n",
    "    \n",
    "    build a vertical grid for ocean models\n",
    "    the functional form of the vertical grid is hyperbolic tangent\n",
    "    \n",
    "    \n",
    "    Parameter:\n",
    "    - H: Maximum depth of your ocean in metres\n",
    "    - dzd: Maximum grid spacing in metres\n",
    "    - min_dz: Minimum grid spacing in metres\n",
    "    - deepfac: How sharp/gentle would you like the hyperbolic tangent?\n",
    "        (<1 is sharp, 1 is neutral, >1 is gentle) This is used to \"tune\" the number of\n",
    "        levels to an acceptable amount\n",
    "    \n",
    "    this is scripted for MOM5 which uses the \"super grid\"\n",
    "    the \"super grid\" is a netcdf variable called \"zeta\"\n",
    "    which is a vector of the depths at the top, middle and bottom of each cell\n",
    "    this vector is of length 2N-1 where N is the number of z levels in the model\n",
    "\n",
    "    this also builds a regular grid\n",
    "    the regular grid is written to netcdf file as a variable called \"v_grid\"\n",
    "    v_grid is a vector of the depths at the top and bottom of each cell\n",
    "    this vector is of length N-1 where N is the number of z levels in the model\n",
    "\n",
    "    Adapted from code written by Kial Stewart\n",
    "    this function relates to the Ocean Modelling paper \"Vertical resolution of\n",
    "    baroclinic modes in global ocean models\" by Stewart et al.\n",
    "\n",
    "    \"\"\"\n",
    "\n",
    "    import netCDF4 as nc\n",
    "    import numpy as np\n",
    "\n",
    "    # define the functional form of the vertical grid\n",
    "    epsilon = 0.001 # this is a small number needed to begin the iteration\n",
    "    def f_all(kk):\n",
    "        return np.tanh(np.pi*((kk)/(H*depfac)))*(dzd)+epsilon\n",
    "    # the function is {tanh(pi*m/H)*dz_max + epsilon}, which is epsilon at the surface and dz_max at H\n",
    "\n",
    "    # make the first two entries of the initial grid; these will be 0 and epsilon for both z and dz\n",
    "    delta_z = [0,epsilon*1.0]\n",
    "    prop_z = [0,epsilon*1.0]\n",
    "\n",
    "    # this is where the magic happens: an iterative process that takes a step from\n",
    "    # the current end (deepest point) of the grid along the function to find the next point\n",
    "    while prop_z[-1]+delta_z[-1] < 1.2*H:\n",
    "        aa = np.linspace(1.0,1.5,10000)\n",
    "        bb = np.zeros([len(aa)])\n",
    "        loopkill = 1.0\n",
    "        ii = 0\n",
    "        while loopkill > 0:\n",
    "            bb[ii] = (f_all(prop_z[-1]+(delta_z[-1]*aa[ii])))-(delta_z[-1]*aa[ii])\n",
    "            loopkill = bb[ii]\n",
    "            ii += 1\n",
    "        aa_bb = np.polyfit(aa[:ii-1],bb[:ii-1],1)\n",
    "        dznew = (delta_z[-1]*(np.abs(aa_bb[1]/aa_bb[0])))\n",
    "        delta_z = np.append(delta_z,dznew)\n",
    "        prop_z = np.append(prop_z,(prop_z[-1]+delta_z[-1]))\n",
    "\n",
    "    # now that we have an initial grid that follows the desired functional form we need to relocate\n",
    "    # it vertically so that the grid spacing at the surface is min_dz\n",
    "    new_surf = np.max(np.where(delta_z<min_dz)) # find where the initial grid is min_dz (the surface resolution)\n",
    "    real_prop_z = prop_z[new_surf:]-prop_z[new_surf] # make a new grid that shifts the initial grid vertically\n",
    "    real_delta_z = delta_z[new_surf:] # make a new dz for this new grid\n",
    "    real_prop_z = real_prop_z[np.where(real_prop_z<H)] # cut the new grid off at desired depth, H\n",
    "    real_delta_z = real_delta_z[np.where(real_prop_z<H)] # and the new dz too\n",
    "\n",
    "    ################\n",
    "    # for MOM we need the \"super grid\"\n",
    "    ################\n",
    "\n",
    "    super_vgrid = np.zeros([(2*(len(real_prop_z)-1))+1])\n",
    "\n",
    "    for zz in np.arange(len(real_prop_z)):\n",
    "        super_vgrid[zz*2] = real_prop_z[zz]\n",
    "\n",
    "    for zz in np.arange(len(real_prop_z)-1):\n",
    "        super_vgrid[1+(zz*2)] = real_prop_z[zz+1] - ((real_prop_z[zz+1] - real_prop_z[zz])/2)\n",
    "\n",
    "    if save_files:\n",
    "        eddyfile = nc.Dataset('./'+super_grid_filename, 'w', format='NETCDF4')\n",
    "        eddyfile.createDimension('nzv', len(super_vgrid))\n",
    "        zeta = eddyfile.createVariable('zeta','f8',('nzv',))\n",
    "        zeta.units = 'meters'\n",
    "        zeta.standard_name = 'vertical_grid_vertex'\n",
    "        zeta.long_name = 'vertical_super_grid_for_MOM5:_depth_at_the_top_and_middle_and_bottom_of_each_cell'\n",
    "        zeta.author = 'Kial Stewart'\n",
    "        eddyfile.variables['zeta'][:] = super_vgrid\n",
    "        eddyfile.close()\n",
    "\n",
    "        eddyfile = nc.Dataset('./'+regular_grid_filename, 'w', format='NETCDF4')\n",
    "        eddyfile.createDimension('nzv', len(real_prop_z))\n",
    "        v_grid = eddyfile.createVariable('v_grid','f8',('nzv',))\n",
    "        v_grid.units = 'meters'\n",
    "        v_grid.standard_name = 'vertical_grid'\n",
    "        v_grid.long_name = 'vertical_grid_depth_at_top_and_bottom_of_each_cell'\n",
    "        v_grid.author = 'Kial Stewart'\n",
    "        eddyfile.variables['v_grid'][:] = real_prop_z\n",
    "        eddyfile.close()\n",
    "\n",
    "    print (\"SUCCESS!! You now have a vertical grid of \", len(real_prop_z)-1, \n",
    "           \" levels with grid spacing ranging from \", real_delta_z[0],\" to \",\n",
    "           real_delta_z[-1])\n",
    "    if save_files:\n",
    "        print(\" written to files \",super_grid_filename,\" and \",regular_grid_filename)\n",
    "        \n",
    "    return real_prop_z, real_delta_z\n"
   ]
  },
  {
   "cell_type": "code",
   "execution_count": 5,
   "metadata": {},
   "outputs": [
    {
     "name": "stdout",
     "output_type": "stream",
     "text": [
      "SUCCESS!! You now have a vertical grid of  49  levels with grid spacing ranging from  4.860299646114549  to  149.35458582006274\n"
     ]
    }
   ],
   "source": [
    "zp1, dz = generate_vertical_grid(H, dzd, min_dz)\n",
    "# first element of dz shouldn't be there\n",
    "dz = np.delete(dz, 0)\n",
    "\n",
    "nz = dz.shape[0]\n",
    "\n",
    "# depth of cell centres\n",
    "z = np.zeros_like(dz)\n",
    "z[0] = dz[0]/2\n",
    "for k in range(1,nz):\n",
    "    z[k] = z[k-1] + dz[k-1]/2 + dz[k]/2"
   ]
  },
  {
   "cell_type": "markdown",
   "metadata": {},
   "source": [
    "Copy these values for dz into the `data` file."
   ]
  },
  {
   "cell_type": "code",
   "execution_count": 6,
   "metadata": {},
   "outputs": [
    {
     "data": {
      "text/plain": [
       "array([  5.48716549,   6.19462098,   6.99291201,   7.89353689,\n",
       "         8.90937723,  10.05483267,  11.34595414,  12.80056778,\n",
       "        14.43837763,  16.28102917,  18.35210877,  20.67704362,\n",
       "        23.28285446,  26.1976981 ,  29.45012046,  33.06792588,\n",
       "        37.07656002,  41.496912  ,  46.34247864,  51.61592052,\n",
       "        57.30518684,  63.37960847,  69.78661289,  76.44996107,\n",
       "        83.27047568,  90.13003112,  96.89898027, 103.44631852,\n",
       "       109.65099217, 115.4122275 , 120.65692923, 125.34295968,\n",
       "       129.45821977, 133.01641219, 136.05088105, 138.60793752,\n",
       "       140.74074276, 142.50436556, 143.95220912, 145.133724  ,\n",
       "       146.09317287, 146.86917206, 147.49475454, 147.99774783,\n",
       "       148.40131516, 148.72455653, 148.98310489, 149.18968055,\n",
       "       149.35458582])"
      ]
     },
     "execution_count": 6,
     "metadata": {},
     "output_type": "execute_result"
    }
   ],
   "source": [
    "dz"
   ]
  },
  {
   "cell_type": "code",
   "execution_count": 7,
   "metadata": {},
   "outputs": [
    {
     "data": {
      "text/plain": [
       "Text(0.5,0,'Vertical grid spacing (m)')"
      ]
     },
     "execution_count": 7,
     "metadata": {},
     "output_type": "execute_result"
    },
    {
     "data": {
      "image/png": "[encoded data removed]",
      "text/plain": [
       "<Figure size 432x288 with 1 Axes>"
      ]
     },
     "metadata": {},
     "output_type": "display_data"
    }
   ],
   "source": [
    "plt.plot(dz, -z, '-o')\n",
    "plt.ylabel('Depth (m)')\n",
    "plt.xlabel('Vertical grid spacing (m)')"
   ]
  },
  {
   "cell_type": "code",
   "execution_count": 8,
   "metadata": {},
   "outputs": [
    {
     "data": {
      "text/plain": [
       "3982.2608621419236"
      ]
     },
     "execution_count": 8,
     "metadata": {},
     "output_type": "execute_result"
    }
   ],
   "source": [
    "dz.sum()"
   ]
  },
  {
   "cell_type": "markdown",
   "metadata": {},
   "source": [
    "## Horizontal grid\n",
    "\n",
    "We will construct two horizontal grids. We will use a coarse resolution grid (50 km) and an eddy resolving grid (5 km). "
   ]
  },
  {
   "cell_type": "code",
   "execution_count": 9,
   "metadata": {},
   "outputs": [],
   "source": [
    "Lx = 1e6\n",
    "Ly = 2e6"
   ]
  },
  {
   "cell_type": "markdown",
   "metadata": {},
   "source": [
    "### Coarse resolution grid"
   ]
  },
  {
   "cell_type": "code",
   "execution_count": 10,
   "metadata": {},
   "outputs": [],
   "source": [
    "nx = 20\n",
    "ny = 40\n",
    "\n",
    "x = np.linspace(0.5*Lx/nx, Lx-0.5*Lx/nx, num=nx)\n",
    "y = np.linspace(0.5*Ly/ny, Ly-0.5*Ly/ny, num=ny)"
   ]
  },
  {
   "cell_type": "markdown",
   "metadata": {},
   "source": [
    "### Eddy resolving grid"
   ]
  },
  {
   "cell_type": "code",
   "execution_count": 11,
   "metadata": {},
   "outputs": [],
   "source": [
    "if eddy_resolving:\n",
    "    nx = 200\n",
    "    ny = 400\n",
    "\n",
    "    x = np.linspace(0.5*Lx/nx, Lx-0.5*Lx/nx, num=nx)\n",
    "    y = np.linspace(0.5*Ly/ny, Ly-0.5*Ly/ny, num=ny)\n",
    "else:\n",
    "    pass"
   ]
  },
  {
   "cell_type": "markdown",
   "metadata": {},
   "source": [
    "## Bathymetry\n",
    "Generate a bathymetry file with a wall at the southern boundary and a number of sea mounts."
   ]
  },
  {
   "cell_type": "code",
   "execution_count": 12,
   "metadata": {},
   "outputs": [],
   "source": [
    "np.random.seed(42)\n",
    "\n",
    "bathy = np.zeros((ny, nx), dtype='float64') - dz.sum()\n",
    "\n",
    "X, Y = np.meshgrid(x,y)\n",
    "    \n",
    "N_mountains = 38\n",
    "Hmax_mountains = 1.5e3\n",
    "Rmax_mountains = 2e5\n",
    "\n",
    "x0 = Lx*np.random.uniform(0.25,0.75,N_mountains)\n",
    "y0 = Ly* np.random.uniform(0,1,N_mountains)\n",
    "h = Hmax_mountains*np.random.uniform(0,1,N_mountains)\n",
    "r = Rmax_mountains*np.random.uniform(0,1,N_mountains)\n",
    "\n",
    "for n in range(N_mountains):\n",
    "    \n",
    "    mountain = h[n]*np.exp(-((X-x0[n])**2 + (Y-y0[n])**2)/r[n]**2 )\n",
    "#     print(mountain.max())\n",
    "    bathy = bathy + mountain\n",
    "    \n",
    "# wall at southern boundary\n",
    "bathy[0,:] = 0"
   ]
  },
  {
   "cell_type": "code",
   "execution_count": 13,
   "metadata": {},
   "outputs": [
    {
     "data": {
      "text/plain": [
       "<matplotlib.colorbar.Colorbar at 0x117913198>"
      ]
     },
     "execution_count": 13,
     "metadata": {},
     "output_type": "execute_result"
    },
    {
     "data": {
      "image/png": "[encoded data removed]",
      "text/plain": [
       "<Figure size 432x288 with 2 Axes>"
      ]
     },
     "metadata": {},
     "output_type": "display_data"
    }
   ],
   "source": [
    "plt.pcolormesh(X, Y, bathy)\n",
    "plt.colorbar()"
   ]
  },
  {
   "cell_type": "code",
   "execution_count": 14,
   "metadata": {},
   "outputs": [
    {
     "name": "stdout",
     "output_type": "stream",
     "text": [
      "-3468.225267194459\n",
      "-1101.8858934941222\n"
     ]
    }
   ],
   "source": [
    "print(bathy[1:,:].mean())\n",
    "print(bathy[1:,:].max())"
   ]
  },
  {
   "cell_type": "code",
   "execution_count": 15,
   "metadata": {},
   "outputs": [
    {
     "name": "stdout",
     "output_type": "stream",
     "text": [
      "write to file: ../input/bathy.bin\n"
     ]
    }
   ],
   "source": [
    "writefield('../input/bathy.bin', bathy)"
   ]
  },
  {
   "cell_type": "markdown",
   "metadata": {},
   "source": [
    "## Temperature relaxation fields\n",
    "For the SST, use a linear temperature profile, which goes from -2$^{\\circ}$C at the southern border to 10$^{\\circ}$C at the northern border\n",
    "\n",
    "For the norhtern sponge region, use the SST value and an exponential in z.\n",
    "\n",
    "Vertical structure is given by \n",
    "$$\n",
    "T(z) = (T_{max} - T_{min}) \\frac{exp(z/h) - exp(-H/h)}{1 - exp(-H/h)} + T_{min}\n",
    "$$"
   ]
  },
  {
   "cell_type": "code",
   "execution_count": 16,
   "metadata": {},
   "outputs": [],
   "source": [
    "# Depth of the ocean\n",
    "H = dz.sum()\n",
    "# Vertical scale height\n",
    "h = 500\n",
    "# Temperature limits\n",
    "Tmin = -2\n",
    "Tmax = 10"
   ]
  },
  {
   "cell_type": "code",
   "execution_count": 17,
   "metadata": {},
   "outputs": [],
   "source": [
    "def generate_T_surf(Tmin, Tmax, x, y, Ly):\n",
    "    \n",
    "    X, Y = np.meshgrid(x,y)\n",
    "    \n",
    "    T = Tmin + (Tmax-Tmin)*Y/Ly\n",
    "    \n",
    "    return T\n",
    "    "
   ]
  },
  {
   "cell_type": "code",
   "execution_count": 18,
   "metadata": {},
   "outputs": [
    {
     "data": {
      "text/plain": [
       "[<matplotlib.lines.Line2D at 0x117990c50>]"
      ]
     },
     "execution_count": 18,
     "metadata": {},
     "output_type": "execute_result"
    },
    {
     "data": {
      "image/png": "[encoded data removed]",
      "text/plain": [
       "<Figure size 432x288 with 1 Axes>"
      ]
     },
     "metadata": {},
     "output_type": "display_data"
    }
   ],
   "source": [
    "T_surf = generate_T_surf(Tmin, Tmax, x, y, Ly)\n",
    "plt.plot(y/1e3, T_surf[:,0])"
   ]
  },
  {
   "cell_type": "markdown",
   "metadata": {},
   "source": [
    "## Three dimensional temperature field"
   ]
  },
  {
   "cell_type": "code",
   "execution_count": 19,
   "metadata": {},
   "outputs": [],
   "source": [
    "T_3D = np.zeros((nz,ny,nx))\n",
    "\n",
    "for j in range(ny):\n",
    "    for i in range(nx):\n",
    "        T_3D[:,j,i] = (T_surf[j,i] - Tmin)*(np.exp(-z/h) - np.exp(-H/h))/(1-np.exp(-H/h)) + Tmin"
   ]
  },
  {
   "cell_type": "code",
   "execution_count": 20,
   "metadata": {},
   "outputs": [
    {
     "data": {
      "text/plain": [
       "Text(0,0.5,'Depth (m)')"
      ]
     },
     "execution_count": 20,
     "metadata": {},
     "output_type": "execute_result"
    },
    {
     "data": {
      "image/png": "[encoded data removed]",
      "text/plain": [
       "<Figure size 432x288 with 1 Axes>"
      ]
     },
     "metadata": {},
     "output_type": "display_data"
    }
   ],
   "source": [
    "plt.plot(T_3D[:,1,1], -z, label='Southern end')\n",
    "plt.plot(T_3D[:,-1,1], -z, label='Northern end')\n",
    "plt.legend()\n",
    "plt.xlabel('Temperature ($^{\\circ}$C)')\n",
    "plt.ylabel('Depth (m)')"
   ]
  },
  {
   "cell_type": "code",
   "execution_count": 21,
   "metadata": {},
   "outputs": [
    {
     "name": "stdout",
     "output_type": "stream",
     "text": [
      "write to file: ../input/T_surf.bin\n",
      "write to file: ../input/temperature.bin\n"
     ]
    }
   ],
   "source": [
    "writefield('../input/T_surf.bin', T_surf)\n",
    "writefield('../input/temperature.bin', T_3D)"
   ]
  },
  {
   "cell_type": "markdown",
   "metadata": {},
   "source": [
    "## Temperature relaxation mask\n",
    "Should be 1 along the norther boundary. Transition to 0 over about 100 km going north to south."
   ]
  },
  {
   "cell_type": "code",
   "execution_count": 22,
   "metadata": {},
   "outputs": [],
   "source": [
    "T_relax_mask = np.zeros_like(T_3D)\n",
    "\n",
    "\n",
    "for k in range(nz):\n",
    "    T_relax_mask[k,:,:] = Y/1e5 - 19\n",
    "\n",
    "T_relax_mask = np.maximum(T_relax_mask, 0)\n",
    "\n",
    "T_relax_mask[:,-1,:] = 1"
   ]
  },
  {
   "cell_type": "code",
   "execution_count": 23,
   "metadata": {},
   "outputs": [
    {
     "data": {
      "text/plain": [
       "Text(0,0.5,'Temperature relaxation mask \\n (>0 means relaxation)')"
      ]
     },
     "execution_count": 23,
     "metadata": {},
     "output_type": "execute_result"
    },
    {
     "data": {
      "image/png": "[encoded data removed]",
      "text/plain": [
       "<Figure size 432x288 with 1 Axes>"
      ]
     },
     "metadata": {},
     "output_type": "display_data"
    }
   ],
   "source": [
    "plt.plot(y/1e3, T_relax_mask[1,:,0])\n",
    "plt.xlabel('y coordinate (km)')\n",
    "plt.ylabel('Temperature relaxation mask \\n (>0 means relaxation)')"
   ]
  },
  {
   "cell_type": "code",
   "execution_count": 24,
   "metadata": {},
   "outputs": [
    {
     "name": "stdout",
     "output_type": "stream",
     "text": [
      "write to file: ../input/T_relax_mask.bin\n"
     ]
    }
   ],
   "source": [
    "writefield('../input/T_relax_mask.bin', T_relax_mask)\n"
   ]
  },
  {
   "cell_type": "markdown",
   "metadata": {},
   "source": [
    "## Zonal wind"
   ]
  },
  {
   "cell_type": "code",
   "execution_count": 25,
   "metadata": {},
   "outputs": [],
   "source": [
    "def generate_zonal_wind(tau_min, tau_max, x, y, Ly):\n",
    "    \n",
    "    tau_max = tau_max - 0.5*tau_min\n",
    "    \n",
    "    X, Y = np.meshgrid(x,y)\n",
    "    \n",
    "    tau =  tau_max*np.sin((Y)*np.pi/(Ly))**2 + tau_min - tau_min*Y/Ly\n",
    "    \n",
    "    return tau"
   ]
  },
  {
   "cell_type": "code",
   "execution_count": 26,
   "metadata": {},
   "outputs": [],
   "source": [
    "zonal_wind = generate_zonal_wind(-0.1, 0.2, x, y, Ly)"
   ]
  },
  {
   "cell_type": "code",
   "execution_count": 27,
   "metadata": {},
   "outputs": [
    {
     "data": {
      "text/plain": [
       "<matplotlib.collections.LineCollection at 0x117c33828>"
      ]
     },
     "execution_count": 27,
     "metadata": {},
     "output_type": "execute_result"
    },
    {
     "data": {
      "image/png": "[encoded data removed]",
      "text/plain": [
       "<Figure size 432x288 with 1 Axes>"
      ]
     },
     "metadata": {},
     "output_type": "display_data"
    }
   ],
   "source": [
    "plt.plot(y/1e3, zonal_wind[:,0])\n",
    "plt.hlines(0, 0, 2e3)"
   ]
  },
  {
   "cell_type": "code",
   "execution_count": 28,
   "metadata": {},
   "outputs": [
    {
     "name": "stdout",
     "output_type": "stream",
     "text": [
      "write to file: ../input/zonal_wind.bin\n"
     ]
    }
   ],
   "source": [
    "writefield('../input/zonal_wind.bin', zonal_wind)\n"
   ]
  },
  {
   "cell_type": "code",
   "execution_count": null,
   "metadata": {},
   "outputs": [],
   "source": []
  }
 ],
 "metadata": {
  "kernelspec": {
   "display_name": "Python 3",
   "language": "python",
   "name": "python3"
  },
  "language_info": {
   "codemirror_mode": {
    "name": "ipython",
    "version": 3
   },
   "file_extension": ".py",
   "mimetype": "text/x-python",
   "name": "python",
   "nbconvert_exporter": "python",
   "pygments_lexer": "ipython3",
   "version": "3.6.7"
  }
 },
 "nbformat": 4,
 "nbformat_minor": 2
}
